{
 "cells": [
  {
   "cell_type": "code",
   "execution_count": 1,
   "id": "93699aa6-e403-4b66-a378-aa99606166f4",
   "metadata": {},
   "outputs": [],
   "source": [
    "import os\n",
    "import subprocess\n",
    "import ipywidgets as widgets\n",
    "from IPython.lib import backgroundjobs as bg\n",
    "from IPython.display import display, clear_output, HTML\n",
    "import dask\n",
    "from dask.distributed import Client\n",
    "\n",
    "\n",
    "from datetime import datetime\n",
    "def now():\n",
    "    now = datetime.now()\n",
    "    return now.strftime(\"%H:%M:%S\")\n",
    "\n",
    "\n",
    "class DaskLauncher():\n",
    "    def __init__(self):\n",
    "        image = time = ntasks = cpus = ''\n",
    "\n",
    "        self.title = HTML('<h3>Dask Launcher Config</h3>')\n",
    "        self.image = widgets.Text(description='Shifter Img', placeholder='None', value=image)\n",
    "        self.time = widgets.Text(description='Time', placeholder='30', value=time)\n",
    "        self.ntasks = widgets.Text(description='NTasks', placeholder='32', value=ntasks)\n",
    "        self.cpus = widgets.Text(description='CPUs/Task', placeholder='2', value=cpus)\n",
    "        self.button = widgets.Button(description=\"Launch Dask\")\n",
    "        self.button.on_click(self.handle_submit)\n",
    "        self.output = widgets.Output()\n",
    "\n",
    "        self.client = None\n",
    "        self._button_clicked = False\n",
    "    \n",
    "    def display(self):\n",
    "        display(self.title, self.image, self.time, self.ntasks, self.cpus, self.button, self.output)\n",
    "\n",
    "    def handle_submit(self, b):\n",
    "        if self._button_clicked:\n",
    "            err = ('Error: you have already clicked Launch Dask. '\n",
    "                   'You can reload the widget to try to relaunch, but check my.nersc.gov '\n",
    "                   'to ensure you don\\'t have unknown jobs running.')\n",
    "            with self.output:\n",
    "                raise Exception(err)\n",
    "            raise Exception(err)\n",
    "        \n",
    "        self.validate_input()\n",
    "        \n",
    "        cmd = self.format_command()\n",
    "\n",
    "        cmd_prefix = f'cd {os.environ[\"SCRATCH\"]} && module load nersc-dask && '\n",
    "        test_cmd = f'bash -c \"{cmd_prefix + cmd} --test\"'\n",
    "        p = subprocess.Popen(test_cmd, shell=True, stdout=subprocess.PIPE)\n",
    "        out, err = p.communicate()\n",
    "\n",
    "        bash_cmd = f'bash -c \"{cmd_prefix + cmd}\"'\n",
    "        jobs = bg.BackgroundJobManager()\n",
    "        jobs.new('subprocess.Popen(bash_cmd, shell=True)')\n",
    "        self._button_clicked = True\n",
    "\n",
    "        self.print_display(out)\n",
    "        \n",
    "    def validate_input(self):\n",
    "        if self.time.value != '' and (not self.time.value.isnumeric() or float(self.time.value) < 0):\n",
    "            raise Exception('ValueError: invalid time value')\n",
    "        if not self.ntasks.value.isdigit() and self.ntasks.value != '':\n",
    "            raise Exception('ValueError: invalid ntasks value')\n",
    "        if not self.cpus.value.isdigit() and self.cpus.value != '':\n",
    "            raise Exception('ValueError: invalid cpus per task value')\n",
    "\n",
    "    def print_display(self, out):\n",
    "        clear_output()\n",
    "        with self.output:\n",
    "            clear_output()\n",
    "            print(f'({now()}) Launching Dask using the following salloc call:')\n",
    "            print(out.decode('utf-8').replace('Test only, exiting', ''))\n",
    "\n",
    "            print('Run the cell below to connect your Dask client. This may take a couple minutes.')\n",
    "            print('You can view the status of your Dask job at my.nersc.gov')\n",
    "\n",
    "    def get_client(self):\n",
    "        if self._button_clicked:\n",
    "            scheduler_file = os.path.join(os.environ[\"SCRATCH\"], 'scheduler.json')\n",
    "            url = '{JUPYTERHUB_SERVICE_PREFIX}proxy/{host}:{port}/status'\n",
    "            dask.config.config[\"distributed\"][\"dashboard\"][\"link\"] = url\n",
    "\n",
    "            self.client = Client(scheduler_file=scheduler_file)\n",
    "            return self.client\n",
    "        else:\n",
    "            raise Exception('Error: client is not initalized. Did you click Launch Dask?')\n",
    "\n",
    "    def shutdown(self):\n",
    "        if self.client:\n",
    "            self.client.shutdown()\n",
    "            self.client.close()\n",
    "            self.client = None\n",
    "            self._button_clicked = False\n",
    "\n",
    "    def format_command(self):\n",
    "        command = 'start-dask-mpi'\n",
    "        if self.image.value != '':\n",
    "            command += f' --image={self.image.value}'\n",
    "        if self.time.value != '':\n",
    "            command += f' --time={self.time.value}'\n",
    "        if self.ntasks.value != '':\n",
    "            command += f' --ntasks={self.ntasks.value}'\n",
    "        if self.cpus.value != '':\n",
    "            command += f' --cpus-per-task={self.cpus.value}'\n",
    "\n",
    "        return command"
   ]
  },
  {
   "cell_type": "code",
   "execution_count": 2,
   "id": "78411a39-006d-4939-95a6-8cb4eabf43e9",
   "metadata": {},
   "outputs": [
    {
     "data": {
      "text/html": [
       "<h3>Dask Launcher Config</h3>"
      ],
      "text/plain": [
       "<IPython.core.display.HTML object>"
      ]
     },
     "metadata": {},
     "output_type": "display_data"
    },
    {
     "data": {
      "application/vnd.jupyter.widget-view+json": {
       "model_id": "a1caef245afa43a3b62fed59095209c5",
       "version_major": 2,
       "version_minor": 0
      },
      "text/plain": [
       "Text(value='', description='Shifter Img', placeholder='None')"
      ]
     },
     "metadata": {},
     "output_type": "display_data"
    },
    {
     "data": {
      "application/vnd.jupyter.widget-view+json": {
       "model_id": "f9fe98550eef4e8997ca28cc4931eff1",
       "version_major": 2,
       "version_minor": 0
      },
      "text/plain": [
       "Text(value='', description='Time', placeholder='30')"
      ]
     },
     "metadata": {},
     "output_type": "display_data"
    },
    {
     "data": {
      "application/vnd.jupyter.widget-view+json": {
       "model_id": "4bc31eedd0e54ee1bb93595ee2ae44ee",
       "version_major": 2,
       "version_minor": 0
      },
      "text/plain": [
       "Text(value='', description='NTasks', placeholder='32')"
      ]
     },
     "metadata": {},
     "output_type": "display_data"
    },
    {
     "data": {
      "application/vnd.jupyter.widget-view+json": {
       "model_id": "f2fe34255a3a4bf684096617cc2b65e3",
       "version_major": 2,
       "version_minor": 0
      },
      "text/plain": [
       "Text(value='', description='CPUs/Task', placeholder='2')"
      ]
     },
     "metadata": {},
     "output_type": "display_data"
    },
    {
     "data": {
      "application/vnd.jupyter.widget-view+json": {
       "model_id": "5c0f22a377024741b251f586a65df504",
       "version_major": 2,
       "version_minor": 0
      },
      "text/plain": [
       "Button(description='Launch Dask', style=ButtonStyle())"
      ]
     },
     "metadata": {},
     "output_type": "display_data"
    },
    {
     "data": {
      "application/vnd.jupyter.widget-view+json": {
       "model_id": "418bf53c49344f17a5f39e35a4001a4d",
       "version_major": 2,
       "version_minor": 0
      },
      "text/plain": [
       "Output()"
      ]
     },
     "metadata": {},
     "output_type": "display_data"
    }
   ],
   "source": [
    "# import DaskLauncher\n",
    "launcher = DaskLauncher()\n",
    "launcher.display()"
   ]
  },
  {
   "cell_type": "code",
   "execution_count": 3,
   "id": "f195860d-bc21-43c9-800a-ee238a6efb58",
   "metadata": {},
   "outputs": [
    {
     "data": {
      "text/html": [
       "<table style=\"border: 2px solid white;\">\n",
       "<tr>\n",
       "<td style=\"vertical-align: top; border: 0px solid white\">\n",
       "<h3 style=\"text-align: left;\">Client</h3>\n",
       "<ul style=\"text-align: left; list-style: none; margin: 0; padding: 0;\">\n",
       "  <li><b>Scheduler: </b>tcp://10.128.0.10:46097</li>\n",
       "  <li><b>Dashboard: </b><a href='/user/jgeden/cori-shared-node-cpu/proxy/10.128.0.10:46559/status' target='_blank'>/user/jgeden/cori-shared-node-cpu/proxy/10.128.0.10:46559/status</a></li>\n",
       "</ul>\n",
       "</td>\n",
       "<td style=\"vertical-align: top; border: 0px solid white\">\n",
       "<h3 style=\"text-align: left;\">Cluster</h3>\n",
       "<ul style=\"text-align: left; list-style:none; margin: 0; padding: 0;\">\n",
       "  <li><b>Workers: </b>31</li>\n",
       "  <li><b>Cores: </b>31</li>\n",
       "  <li><b>Memory: </b>1.96 TB</li>\n",
       "</ul>\n",
       "</td>\n",
       "</tr>\n",
       "</table>"
      ],
      "text/plain": [
       "<Client: 'tcp://10.128.0.10:46097' processes=31 threads=31, memory=1.96 TB>"
      ]
     },
     "execution_count": 3,
     "metadata": {},
     "output_type": "execute_result"
    }
   ],
   "source": [
    "client = launcher.get_client()\n",
    "client"
   ]
  },
  {
   "cell_type": "code",
   "execution_count": 4,
   "id": "5b83fbd9-ca76-46f0-bba4-524dff34617c",
   "metadata": {},
   "outputs": [],
   "source": [
    "# The following cells calculate pi using Monte Carlo simulation\n",
    "import numpy as np\n",
    "def simulate(seed, count=100):\n",
    "    np.random.seed(seed)\n",
    "    xy = np.random.uniform(size=(count, 2))\n",
    "    return ((xy * xy).sum(1) < 1.0).sum(), count"
   ]
  },
  {
   "cell_type": "code",
   "execution_count": 5,
   "id": "edb0edfe-bc29-45af-932a-936bbef24c48",
   "metadata": {},
   "outputs": [],
   "source": [
    "# total = 100000000000\n",
    "total = 1000000\n",
    "tasks = 10000\n",
    "count = total // tasks\n",
    "futures = client.map(simulate, list(9876543 + np.arange(tasks, dtype=int)), count=count)"
   ]
  },
  {
   "cell_type": "code",
   "execution_count": 6,
   "id": "df9dd490-66da-4e45-a699-4c58a94c7187",
   "metadata": {},
   "outputs": [],
   "source": [
    "def reduce(results):\n",
    "    total_hits = 0\n",
    "    total_count = 0\n",
    "    for hits, count in results:\n",
    "        total_hits += hits\n",
    "        total_count += count\n",
    "    return 4.0 * total_hits / total_count"
   ]
  },
  {
   "cell_type": "code",
   "execution_count": null,
   "id": "815eab89-e407-4319-a35a-0405b29271af",
   "metadata": {},
   "outputs": [],
   "source": [
    " %%time\n",
    "client.submit(reduce, futures).result()"
   ]
  },
  {
   "cell_type": "code",
   "execution_count": null,
   "id": "89e6920f-7181-4389-b1c0-ed7751d68189",
   "metadata": {},
   "outputs": [],
   "source": [
    "# Run this cell to shut down the job, cluster, and client\n",
    "launcher.shutdown()"
   ]
  },
  {
   "cell_type": "code",
   "execution_count": null,
   "id": "b9a28c86-5806-439d-ba42-626577c90d80",
   "metadata": {},
   "outputs": [],
   "source": []
  }
 ],
 "metadata": {
  "kernelspec": {
   "display_name": "MyDask",
   "language": "python",
   "name": "mydask"
  },
  "language_info": {
   "codemirror_mode": {
    "name": "ipython",
    "version": 3
   },
   "file_extension": ".py",
   "mimetype": "text/x-python",
   "name": "python",
   "nbconvert_exporter": "python",
   "pygments_lexer": "ipython3",
   "version": "3.8.5"
  }
 },
 "nbformat": 4,
 "nbformat_minor": 5
}
